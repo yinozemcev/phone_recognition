{
 "cells": [
  {
   "cell_type": "code",
   "execution_count": 11,
   "metadata": {},
   "outputs": [],
   "source": [
    "from tensorflow.keras.datasets import mnist\n",
    "from tensorflow.keras.models import Sequential\n",
    "from tensorflow.keras.layers import Dense, Conv2D, BatchNormalization, MaxPooling2D, Flatten, Dropout\n",
    "from tensorflow.keras.optimizers import Adam\n",
    "from tensorflow.keras import utils\n",
    "from keras.preprocessing.image import ImageDataGenerator\n",
    "from tensorflow.config import list_physical_devices\n",
    "from tensorflow.config.experimental import set_memory_growth\n",
    "\n",
    "import cv2\n",
    "from tensorflow import device\n",
    "import matplotlib.pyplot as plt #Для отрисовки графиков"
   ]
  },
  {
   "cell_type": "code",
   "execution_count": 12,
   "metadata": {},
   "outputs": [],
   "source": [
    "set_memory_growth(list_physical_devices('GPU')[0], True)"
   ]
  },
  {
   "cell_type": "code",
   "execution_count": 13,
   "metadata": {},
   "outputs": [],
   "source": [
    "(x_train, y_train), (x_test, y_test) = mnist.load_data()"
   ]
  },
  {
   "cell_type": "code",
   "execution_count": 14,
   "metadata": {},
   "outputs": [],
   "source": [
    "x_train = cv2.bitwise_not(x_train.reshape(x_train.shape[0], 28, 28, 1))\n",
    "x_test = cv2.bitwise_not(x_test.reshape(x_test.shape[0], 28, 28, 1))\n",
    "\n",
    "y_train = utils.to_categorical(y_train, 10)\n",
    "y_test = utils.to_categorical(y_test, 10)"
   ]
  },
  {
   "cell_type": "code",
   "execution_count": 15,
   "metadata": {},
   "outputs": [],
   "source": [
    "batch_size = 64 \n",
    "\n",
    "model = Sequential()\n",
    "model.add(Conv2D(64, kernel_size=(3, 3), padding='same', activation='relu', input_shape=(28, 28, 1)))\n",
    "model.add(Conv2D(64, kernel_size=(3, 3), padding='same', activation='relu'))\n",
    "model.add(BatchNormalization())\n",
    "model.add(MaxPooling2D(pool_size=(2, 2)))\n",
    "\n",
    "model.add(Conv2D(128, kernel_size=(3, 3), padding='same', activation='relu'))\n",
    "model.add(Conv2D(128, kernel_size=(3, 3), padding='same', activation='relu'))\n",
    "model.add(BatchNormalization())\n",
    "model.add(MaxPooling2D(pool_size=(2, 2)))\n",
    "\n",
    "model.add(Conv2D(256, kernel_size=(1, 1), padding='same', activation='relu'))\n",
    "model.add(Conv2D(256, kernel_size=(1, 1), padding='same', activation='relu'))\n",
    "model.add(BatchNormalization())\n",
    "model.add(MaxPooling2D(pool_size=(2, 2)))\n",
    "\n",
    "model.add(Flatten())\n",
    "model.add(Dense(512, activation='relu'))\n",
    "model.add(Dropout(0.25))\n",
    "model.add(Dense(10, activation='softmax'))\n",
    "\n",
    "model.compile(optimizer=Adam(), loss=\"categorical_crossentropy\", metrics=[\"accuracy\"])"
   ]
  },
  {
   "cell_type": "code",
   "execution_count": 16,
   "metadata": {},
   "outputs": [
    {
     "name": "stdout",
     "output_type": "stream",
     "text": [
      "Model: \"sequential_1\"\n",
      "_________________________________________________________________\n",
      " Layer (type)                Output Shape              Param #   \n",
      "=================================================================\n",
      " conv2d_4 (Conv2D)           (None, 28, 28, 64)        640       \n",
      "                                                                 \n",
      " conv2d_5 (Conv2D)           (None, 28, 28, 64)        36928     \n",
      "                                                                 \n",
      " batch_normalization (BatchN  (None, 28, 28, 64)       256       \n",
      " ormalization)                                                   \n",
      "                                                                 \n",
      " max_pooling2d_2 (MaxPooling  (None, 14, 14, 64)       0         \n",
      " 2D)                                                             \n",
      "                                                                 \n",
      " conv2d_6 (Conv2D)           (None, 14, 14, 128)       73856     \n",
      "                                                                 \n",
      " conv2d_7 (Conv2D)           (None, 14, 14, 128)       147584    \n",
      "                                                                 \n",
      " batch_normalization_1 (Batc  (None, 14, 14, 128)      512       \n",
      " hNormalization)                                                 \n",
      "                                                                 \n",
      " max_pooling2d_3 (MaxPooling  (None, 7, 7, 128)        0         \n",
      " 2D)                                                             \n",
      "                                                                 \n",
      " conv2d_8 (Conv2D)           (None, 7, 7, 256)         33024     \n",
      "                                                                 \n",
      " conv2d_9 (Conv2D)           (None, 7, 7, 256)         65792     \n",
      "                                                                 \n",
      " batch_normalization_2 (Batc  (None, 7, 7, 256)        1024      \n",
      " hNormalization)                                                 \n",
      "                                                                 \n",
      " max_pooling2d_4 (MaxPooling  (None, 3, 3, 256)        0         \n",
      " 2D)                                                             \n",
      "                                                                 \n",
      " flatten_1 (Flatten)         (None, 2304)              0         \n",
      "                                                                 \n",
      " dense_2 (Dense)             (None, 512)               1180160   \n",
      "                                                                 \n",
      " dropout_1 (Dropout)         (None, 512)               0         \n",
      "                                                                 \n",
      " dense_3 (Dense)             (None, 10)                5130      \n",
      "                                                                 \n",
      "=================================================================\n",
      "Total params: 1,544,906\n",
      "Trainable params: 1,544,010\n",
      "Non-trainable params: 896\n",
      "_________________________________________________________________\n"
     ]
    }
   ],
   "source": [
    "model.summary()"
   ]
  },
  {
   "cell_type": "code",
   "execution_count": 17,
   "metadata": {},
   "outputs": [],
   "source": [
    "dataGen = ImageDataGenerator(rotation_range=15,width_shift_range=0.2,height_shift_range=0.2,\n",
    "                             shear_range=0.15,zoom_range=[0.75,1.25],validation_split=0.2)\n",
    "dataGen.fit(x_train)\n",
    "\n",
    "train_generator = dataGen.flow(x_train, y_train, batch_size=64, shuffle=True, \n",
    "                               seed=2, save_to_dir=None, subset='training')"
   ]
  },
  {
   "cell_type": "code",
   "execution_count": 18,
   "metadata": {},
   "outputs": [
    {
     "name": "stdout",
     "output_type": "stream",
     "text": [
      "Epoch 1/20\n",
      "750/750 [==============================] - 179s 237ms/step - loss: 0.3953 - accuracy: 0.8811 - val_loss: 0.0909 - val_accuracy: 0.9731\n",
      "Epoch 2/20\n",
      "750/750 [==============================] - 179s 239ms/step - loss: 0.1397 - accuracy: 0.9573 - val_loss: 0.0763 - val_accuracy: 0.9764\n",
      "Epoch 3/20\n",
      "750/750 [==============================] - 180s 240ms/step - loss: 0.1060 - accuracy: 0.9682 - val_loss: 0.0434 - val_accuracy: 0.9866\n",
      "Epoch 4/20\n",
      "750/750 [==============================] - 180s 240ms/step - loss: 0.0930 - accuracy: 0.9720 - val_loss: 0.0490 - val_accuracy: 0.9856\n",
      "Epoch 5/20\n",
      "750/750 [==============================] - 180s 240ms/step - loss: 0.0867 - accuracy: 0.9744 - val_loss: 0.0521 - val_accuracy: 0.9825\n",
      "Epoch 6/20\n",
      "750/750 [==============================] - 180s 240ms/step - loss: 0.0799 - accuracy: 0.9766 - val_loss: 0.0656 - val_accuracy: 0.9802\n",
      "Epoch 7/20\n",
      "750/750 [==============================] - 180s 240ms/step - loss: 0.0728 - accuracy: 0.9793 - val_loss: 0.0355 - val_accuracy: 0.9898\n",
      "Epoch 8/20\n",
      "750/750 [==============================] - 180s 240ms/step - loss: 0.0695 - accuracy: 0.9805 - val_loss: 0.0505 - val_accuracy: 0.9837\n",
      "Epoch 9/20\n",
      "750/750 [==============================] - 181s 242ms/step - loss: 0.0660 - accuracy: 0.9810 - val_loss: 0.1083 - val_accuracy: 0.9662\n",
      "Epoch 10/20\n",
      "750/750 [==============================] - 183s 244ms/step - loss: 0.0633 - accuracy: 0.9813 - val_loss: 0.0563 - val_accuracy: 0.9837\n",
      "Epoch 11/20\n",
      "750/750 [==============================] - 182s 243ms/step - loss: 0.0644 - accuracy: 0.9816 - val_loss: 0.0361 - val_accuracy: 0.9877\n",
      "Epoch 12/20\n",
      "750/750 [==============================] - 181s 241ms/step - loss: 0.0566 - accuracy: 0.9834 - val_loss: 0.0358 - val_accuracy: 0.9898\n",
      "Epoch 13/20\n",
      "750/750 [==============================] - 180s 240ms/step - loss: 0.0580 - accuracy: 0.9829 - val_loss: 0.0417 - val_accuracy: 0.9873\n",
      "Epoch 14/20\n",
      "750/750 [==============================] - 180s 240ms/step - loss: 0.0531 - accuracy: 0.9842 - val_loss: 0.0297 - val_accuracy: 0.9914\n",
      "Epoch 15/20\n",
      "750/750 [==============================] - 197s 262ms/step - loss: 0.0532 - accuracy: 0.9852 - val_loss: 0.0403 - val_accuracy: 0.9890\n",
      "Epoch 16/20\n",
      "750/750 [==============================] - 209s 279ms/step - loss: 0.0531 - accuracy: 0.9841 - val_loss: 0.0224 - val_accuracy: 0.9923\n",
      "Epoch 17/20\n",
      "750/750 [==============================] - 190s 254ms/step - loss: 0.0467 - accuracy: 0.9861 - val_loss: 0.1313 - val_accuracy: 0.9605\n",
      "Epoch 18/20\n",
      "750/750 [==============================] - 190s 253ms/step - loss: 0.0478 - accuracy: 0.9862 - val_loss: 0.0307 - val_accuracy: 0.9911\n",
      "Epoch 19/20\n",
      "750/750 [==============================] - 193s 257ms/step - loss: 0.0463 - accuracy: 0.9868 - val_loss: 0.0186 - val_accuracy: 0.9944\n",
      "Epoch 20/20\n",
      "750/750 [==============================] - 190s 254ms/step - loss: 0.0419 - accuracy: 0.9879 - val_loss: 0.0298 - val_accuracy: 0.9910\n"
     ]
    }
   ],
   "source": [
    "with device('/CPU:0'):\n",
    "    history = model.fit(train_generator,\n",
    "                        batch_size=batch_size, \n",
    "                        epochs=20,\n",
    "                        validation_data=(x_test, y_test),\n",
    "                        verbose=1)"
   ]
  },
  {
   "cell_type": "code",
   "execution_count": 19,
   "metadata": {},
   "outputs": [],
   "source": [
    "model.save('ConvRecognition.keras')"
   ]
  },
  {
   "cell_type": "code",
   "execution_count": 20,
   "metadata": {},
   "outputs": [
    {
     "data": {
      "image/png": "[encoded data removed]",
      "text/plain": [
       "<Figure size 432x288 with 1 Axes>"
      ]
     },
     "metadata": {
      "needs_background": "light"
     },
     "output_type": "display_data"
    }
   ],
   "source": [
    "plt.plot(history.history['accuracy'], \n",
    "         label='Доля верных ответов на обучающем наборе')\n",
    "plt.plot(history.history['val_accuracy'], \n",
    "         label='Доля верных ответов на проверочном наборе')\n",
    "plt.xlabel('Эпоха обучения')\n",
    "plt.ylabel('Доля верных ответов')\n",
    "plt.legend()\n",
    "plt.show()"
   ]
  }
 ],
 "metadata": {
  "kernelspec": {
   "display_name": "Python 3 (ipykernel)",
   "language": "python",
   "name": "python3"
  },
  "language_info": {
   "codemirror_mode": {
    "name": "ipython",
    "version": 3
   },
   "file_extension": ".py",
   "mimetype": "text/x-python",
   "name": "python",
   "nbconvert_exporter": "python",
   "pygments_lexer": "ipython3",
   "version": "3.9.6"
  }
 },
 "nbformat": 4,
 "nbformat_minor": 2
}
