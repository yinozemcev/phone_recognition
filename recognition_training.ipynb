{
 "cells": [
  {
   "cell_type": "code",
   "execution_count": 1,
   "metadata": {},
   "outputs": [],
   "source": [
    "from tensorflow.keras.datasets import mnist\n",
    "from tensorflow.keras.models import Sequential\n",
    "from tensorflow.keras.layers import Dense, Conv2D, BatchNormalization, MaxPooling2D, Flatten, Dropout\n",
    "from tensorflow.keras.optimizers import Adam\n",
    "from tensorflow.keras import utils\n",
    "from keras.preprocessing.image import ImageDataGenerator\n",
    "from tensorflow.config import list_physical_devices\n",
    "from tensorflow.config.experimental import set_memory_growth\n",
    "\n",
    "import cv2\n",
    "from tensorflow import device\n",
    "import matplotlib.pyplot as plt #Для отрисовки графиков"
   ]
  },
  {
   "cell_type": "code",
   "execution_count": 2,
   "metadata": {},
   "outputs": [],
   "source": [
    "set_memory_growth(list_physical_devices('GPU')[0], True)"
   ]
  },
  {
   "cell_type": "code",
   "execution_count": 3,
   "metadata": {},
   "outputs": [],
   "source": [
    "(x_train, y_train), (x_test, y_test) = mnist.load_data()"
   ]
  },
  {
   "cell_type": "code",
   "execution_count": 4,
   "metadata": {},
   "outputs": [],
   "source": [
    "x_train = cv2.bitwise_not(x_train.reshape(x_train.shape[0], 28, 28, 1))\n",
    "x_test = cv2.bitwise_not(x_test.reshape(x_test.shape[0], 28, 28, 1))\n",
    "\n",
    "y_train = utils.to_categorical(y_train, 10)\n",
    "y_test = utils.to_categorical(y_test, 10)"
   ]
  },
  {
   "cell_type": "code",
   "execution_count": 5,
   "metadata": {},
   "outputs": [],
   "source": [
    "model = Sequential()\n",
    "model.add(Conv2D(64, kernel_size=(3, 3), padding='same', activation='relu', input_shape=(28, 28, 1)))\n",
    "model.add(Conv2D(64, kernel_size=(3, 3), padding='same', activation='relu'))\n",
    "model.add(BatchNormalization())\n",
    "model.add(MaxPooling2D(pool_size=(2, 2)))\n",
    "\n",
    "model.add(Conv2D(128, kernel_size=(3, 3), padding='same', activation='relu'))\n",
    "model.add(Conv2D(128, kernel_size=(3, 3), padding='same', activation='relu'))\n",
    "model.add(BatchNormalization())\n",
    "model.add(MaxPooling2D(pool_size=(2, 2)))\n",
    "\n",
    "model.add(Conv2D(256, kernel_size=(1, 1), padding='same', activation='relu'))\n",
    "model.add(Conv2D(256, kernel_size=(1, 1), padding='same', activation='relu'))\n",
    "model.add(BatchNormalization())\n",
    "model.add(MaxPooling2D(pool_size=(2, 2)))\n",
    "\n",
    "model.add(Flatten())\n",
    "model.add(Dense(512, activation='relu'))\n",
    "model.add(Dropout(0.5))\n",
    "model.add(Dense(10, activation='softmax'))\n",
    "\n",
    "model.compile(optimizer=Adam(), loss=\"categorical_crossentropy\", metrics=[\"accuracy\"])"
   ]
  },
  {
   "cell_type": "code",
   "execution_count": 6,
   "metadata": {},
   "outputs": [
    {
     "name": "stdout",
     "output_type": "stream",
     "text": [
      "Model: \"sequential\"\n",
      "_________________________________________________________________\n",
      " Layer (type)                Output Shape              Param #   \n",
      "=================================================================\n",
      " conv2d (Conv2D)             (None, 28, 28, 64)        640       \n",
      "                                                                 \n",
      " conv2d_1 (Conv2D)           (None, 28, 28, 64)        36928     \n",
      "                                                                 \n",
      " batch_normalization (BatchN  (None, 28, 28, 64)       256       \n",
      " ormalization)                                                   \n",
      "                                                                 \n",
      " max_pooling2d (MaxPooling2D  (None, 14, 14, 64)       0         \n",
      " )                                                               \n",
      "                                                                 \n",
      " conv2d_2 (Conv2D)           (None, 14, 14, 128)       73856     \n",
      "                                                                 \n",
      " conv2d_3 (Conv2D)           (None, 14, 14, 128)       147584    \n",
      "                                                                 \n",
      " batch_normalization_1 (Batc  (None, 14, 14, 128)      512       \n",
      " hNormalization)                                                 \n",
      "                                                                 \n",
      " max_pooling2d_1 (MaxPooling  (None, 7, 7, 128)        0         \n",
      " 2D)                                                             \n",
      "                                                                 \n",
      " conv2d_4 (Conv2D)           (None, 7, 7, 256)         33024     \n",
      "                                                                 \n",
      " conv2d_5 (Conv2D)           (None, 7, 7, 256)         65792     \n",
      "                                                                 \n",
      " batch_normalization_2 (Batc  (None, 7, 7, 256)        1024      \n",
      " hNormalization)                                                 \n",
      "                                                                 \n",
      " max_pooling2d_2 (MaxPooling  (None, 3, 3, 256)        0         \n",
      " 2D)                                                             \n",
      "                                                                 \n",
      " flatten (Flatten)           (None, 2304)              0         \n",
      "                                                                 \n",
      " dense (Dense)               (None, 512)               1180160   \n",
      "                                                                 \n",
      " dropout (Dropout)           (None, 512)               0         \n",
      "                                                                 \n",
      " dense_1 (Dense)             (None, 10)                5130      \n",
      "                                                                 \n",
      "=================================================================\n",
      "Total params: 1,544,906\n",
      "Trainable params: 1,544,010\n",
      "Non-trainable params: 896\n",
      "_________________________________________________________________\n"
     ]
    }
   ],
   "source": [
    "model.summary()"
   ]
  },
  {
   "cell_type": "code",
   "execution_count": 7,
   "metadata": {},
   "outputs": [],
   "source": [
    "dataGen = ImageDataGenerator(rotation_range=15,width_shift_range=0.1,height_shift_range=0.1,\n",
    "                             shear_range=0.05,zoom_range=[0.95, 1.05],validation_split=0.2)\n",
    "dataGen.fit(x_train)\n",
    "\n",
    "train_generator = dataGen.flow(x_train, y_train, batch_size=128, shuffle=True, \n",
    "                               seed=2, save_to_dir=None, subset='training')"
   ]
  },
  {
   "cell_type": "code",
   "execution_count": 8,
   "metadata": {},
   "outputs": [
    {
     "name": "stdout",
     "output_type": "stream",
     "text": [
      "Epoch 1/15\n",
      "375/375 [==============================] - 166s 440ms/step - loss: 0.3336 - accuracy: 0.9044 - val_loss: 0.0801 - val_accuracy: 0.9740\n",
      "Epoch 2/15\n",
      "375/375 [==============================] - 166s 443ms/step - loss: 0.1090 - accuracy: 0.9670 - val_loss: 0.0784 - val_accuracy: 0.9755\n",
      "Epoch 3/15\n",
      "375/375 [==============================] - 167s 446ms/step - loss: 0.0815 - accuracy: 0.9763 - val_loss: 0.0267 - val_accuracy: 0.9923\n",
      "Epoch 4/15\n",
      "375/375 [==============================] - 168s 448ms/step - loss: 0.0710 - accuracy: 0.9797 - val_loss: 0.0326 - val_accuracy: 0.9894\n",
      "Epoch 5/15\n",
      "375/375 [==============================] - 167s 446ms/step - loss: 0.0650 - accuracy: 0.9808 - val_loss: 0.0527 - val_accuracy: 0.9829\n",
      "Epoch 6/15\n",
      "375/375 [==============================] - 168s 447ms/step - loss: 0.0575 - accuracy: 0.9835 - val_loss: 0.0300 - val_accuracy: 0.9906\n",
      "Epoch 7/15\n",
      "375/375 [==============================] - 169s 451ms/step - loss: 0.0512 - accuracy: 0.9854 - val_loss: 0.0605 - val_accuracy: 0.9810\n",
      "Epoch 8/15\n",
      "375/375 [==============================] - 170s 453ms/step - loss: 0.0517 - accuracy: 0.9850 - val_loss: 0.0470 - val_accuracy: 0.9844\n",
      "Epoch 9/15\n",
      "375/375 [==============================] - 178s 476ms/step - loss: 0.0496 - accuracy: 0.9854 - val_loss: 0.0353 - val_accuracy: 0.9903\n",
      "Epoch 10/15\n",
      "375/375 [==============================] - 171s 457ms/step - loss: 0.0440 - accuracy: 0.9869 - val_loss: 0.0302 - val_accuracy: 0.9910\n",
      "Epoch 11/15\n",
      "375/375 [==============================] - 167s 446ms/step - loss: 0.0424 - accuracy: 0.9871 - val_loss: 0.0291 - val_accuracy: 0.9918\n",
      "Epoch 12/15\n",
      "375/375 [==============================] - 175s 466ms/step - loss: 0.0412 - accuracy: 0.9882 - val_loss: 0.0494 - val_accuracy: 0.9855\n",
      "Epoch 13/15\n",
      "375/375 [==============================] - 176s 468ms/step - loss: 0.0412 - accuracy: 0.9877 - val_loss: 0.0360 - val_accuracy: 0.9885\n",
      "Epoch 14/15\n",
      "375/375 [==============================] - 177s 472ms/step - loss: 0.0377 - accuracy: 0.9885 - val_loss: 0.0266 - val_accuracy: 0.9915\n",
      "Epoch 15/15\n",
      "375/375 [==============================] - 170s 453ms/step - loss: 0.0375 - accuracy: 0.9890 - val_loss: 0.0217 - val_accuracy: 0.9936\n"
     ]
    }
   ],
   "source": [
    "with device('/CPU:0'):\n",
    "    history = model.fit(train_generator,\n",
    "                    batch_size=128, \n",
    "                    epochs=15,\n",
    "                    validation_data=(x_test, y_test),\n",
    "                    verbose=1)"
   ]
  },
  {
   "cell_type": "code",
   "execution_count": 9,
   "metadata": {},
   "outputs": [],
   "source": [
    "model.save('ConvRecognition.keras')"
   ]
  },
  {
   "cell_type": "code",
   "execution_count": 10,
   "metadata": {},
   "outputs": [
    {
     "data": {
      "image/png": "[encoded data removed]",
      "text/plain": [
       "<Figure size 432x288 with 1 Axes>"
      ]
     },
     "metadata": {
      "needs_background": "light"
     },
     "output_type": "display_data"
    }
   ],
   "source": [
    "plt.plot(history.history['accuracy'], \n",
    "         label='Доля верных ответов на обучающем наборе')\n",
    "plt.plot(history.history['val_accuracy'], \n",
    "         label='Доля верных ответов на проверочном наборе')\n",
    "plt.xlabel('Эпоха обучения')\n",
    "plt.ylabel('Доля верных ответов')\n",
    "plt.legend()\n",
    "plt.show()"
   ]
  }
 ],
 "metadata": {
  "kernelspec": {
   "display_name": "Python 3 (ipykernel)",
   "language": "python",
   "name": "python3"
  },
  "language_info": {
   "codemirror_mode": {
    "name": "ipython",
    "version": 3
   },
   "file_extension": ".py",
   "mimetype": "text/x-python",
   "name": "python",
   "nbconvert_exporter": "python",
   "pygments_lexer": "ipython3",
   "version": "3.9.6"
  }
 },
 "nbformat": 4,
 "nbformat_minor": 2
}
